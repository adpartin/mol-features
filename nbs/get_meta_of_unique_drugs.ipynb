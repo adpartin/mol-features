{
 "cells": [
  {
   "cell_type": "markdown",
   "metadata": {},
   "source": [
    "# Create a metadata df of unique drugs from a set of docking results\n",
    "\n",
    "The metadata contains `Inchi-key`, `TITLE`, `SMILES`"
   ]
  },
  {
   "cell_type": "code",
   "execution_count": 1,
   "metadata": {},
   "outputs": [
    {
     "name": "stdout",
     "output_type": "stream",
     "text": [
      "/vol/ml/apartin/projects/covid-19/mol-features/nbs\n"
     ]
    }
   ],
   "source": [
    "%load_ext autoreload\n",
    "%autoreload 2\n",
    "%matplotlib inline\n",
    "\n",
    "import warnings\n",
    "warnings.filterwarnings('ignore')\n",
    "\n",
    "import os\n",
    "import sys\n",
    "from pathlib import Path\n",
    "from time import time\n",
    "import numpy as np\n",
    "import pandas as pd\n",
    "from glob import glob\n",
    "import matplotlib\n",
    "import matplotlib.pyplot as plt\n",
    "print( Path.cwd() )"
   ]
  },
  {
   "cell_type": "code",
   "execution_count": 11,
   "metadata": {},
   "outputs": [
    {
     "data": {
      "text/plain": [
       "35"
      ]
     },
     "execution_count": 11,
     "metadata": {},
     "output_type": "execute_result"
    }
   ],
   "source": [
    "datadir = Path('../data/raw/dock-2020-06-01/OZD')\n",
    "outdir = datadir.parent\n",
    "files = sorted(datadir.glob('*4col.csv'))\n",
    "len(files)"
   ]
  },
  {
   "cell_type": "code",
   "execution_count": 12,
   "metadata": {},
   "outputs": [],
   "source": [
    "# df1=pd.read_csv(files[0]) # .sort_values('TITLE')\n",
    "# df2=pd.read_csv(files[1]) # .sort_values('TITLE')\n",
    "# print(df1.shape)\n",
    "# print(df2.shape)\n",
    "\n",
    "# df = pd.concat([df1, df2], axis=0)\n",
    "# df = df.drop_duplicates(subset=['TITLE'])\n",
    "# print(df.shape)"
   ]
  },
  {
   "cell_type": "code",
   "execution_count": null,
   "metadata": {},
   "outputs": [],
   "source": []
  },
  {
   "cell_type": "code",
   "execution_count": 13,
   "metadata": {},
   "outputs": [
    {
     "name": "stdout",
     "output_type": "stream",
     "text": [
      "Loading 1 ... 3CLPro_7BQY_A_1_F.Orderable_zinc_db_enaHLL.sorted.4col.csv\n",
      "Loading 2 ... ADRP_6W02_A_1_H.Orderable_zinc_db_enaHLL.sorted.4col.csv\n",
      "Loading 3 ... NPRBD_6VYO_AB_1_F.Orderable_zinc_db_enaHLL.sorted.4col.csv\n",
      "Loading 4 ... NPRBD_6VYO_A_1_F.Orderable_zinc_db_enaHLL.sorted.4col.csv\n",
      "Loading 5 ... NPRBD_6VYO_BC_1_F.Orderable_zinc_db_enaHLL.sorted.4col.csv\n",
      "Loading 6 ... NPRBD_6VYO_CD_1_F.Orderable_zinc_db_enaHLL.sorted.4col.csv\n",
      "Loading 7 ... NPRBD_6VYO_DA_1_F.Orderable_zinc_db_enaHLL.sorted.4col.csv\n",
      "Loading 8 ... NSP10-16_6W61_AB_1_F.Orderable_zinc_db_enaHLL.sorted.4col.csv\n",
      "Loading 9 ... NSP10-16_6W61_AB_2_F.Orderable_zinc_db_enaHLL.sorted.4col.csv\n",
      "Loading 10 ... NSP10_6W61_B_1_F.Orderable_zinc_db_enaHLL.sorted.4col.csv\n",
      "Loading 11 ... NSP13_HELICASE_5WWP_0_A_A__DU__apo_PHE_A-145.Orderable_zinc_db_enaHLL.sorted.4col.csv\n",
      "    skip ../data/raw/docking-2020-06-01/all/OZD/NSP13_HELICASE_5WWP_0_A_A__DU__apo_PHE_A-145.Orderable_zinc_db_enaHLL.sorted.4col.csv\n",
      "Loading 12 ... NSP13_HELICASE_5WWP_1_A_A__DU__apo_PHE_A-145.Orderable_zinc_db_enaHLL.sorted.4col.csv\n",
      "    skip ../data/raw/docking-2020-06-01/all/OZD/NSP13_HELICASE_5WWP_1_A_A__DU__apo_PHE_A-145.Orderable_zinc_db_enaHLL.sorted.4col.csv\n",
      "Loading 13 ... NSP13_HELICASE_6JYT_1_A_A__DU__apo_PRO_A-408.Orderable_zinc_db_enaHLL.sorted.4col.csv\n",
      "    skip ../data/raw/docking-2020-06-01/all/OZD/NSP13_HELICASE_6JYT_1_A_A__DU__apo_PRO_A-408.Orderable_zinc_db_enaHLL.sorted.4col.csv\n",
      "Loading 14 ... NSP13_HELICASE_6JYT_2_A_A__DU__apo_LEU_A-227.Orderable_zinc_db_enaHLL.sorted.4col.csv\n",
      "    skip ../data/raw/docking-2020-06-01/all/OZD/NSP13_HELICASE_6JYT_2_A_A__DU__apo_LEU_A-227.Orderable_zinc_db_enaHLL.sorted.4col.csv\n",
      "Loading 15 ... NSP15_6VWW_AB_1_F.Orderable_zinc_db_enaHLL.sorted.4col.csv\n",
      "Loading 16 ... NSP15_6VWW_A_1_F.Orderable_zinc_db_enaHLL.sorted.4col.csv\n",
      "Loading 17 ... NSP15_6VWW_A_2_F.Orderable_zinc_db_enaHLL.sorted.4col.csv\n",
      "Loading 18 ... NSP15_6W01_AB_1_F.Orderable_zinc_db_enaHLL.sorted.4col.csv\n",
      "Loading 19 ... NSP15_6W01_A_1_F.Orderable_zinc_db_enaHLL.sorted.4col.csv\n",
      "Loading 20 ... NSP15_6W01_A_2_F.Orderable_zinc_db_enaHLL.sorted.4col.csv\n",
      "Loading 21 ... NSP15_6W01_A_3_H.Orderable_zinc_db_enaHLL.sorted.4col.csv\n",
      "Loading 22 ... NSP16_6W61_A_1_H.Orderable_zinc_db_enaHLL.sorted.4col.csv\n",
      "Loading 23 ... Nsp13.helicase_m1_pocket2.Orderable_zinc_db_enaHLL.sorted.4col.csv\n",
      "Loading 24 ... Nsp13.helicase_m3_pocket2.Orderable_zinc_db_enaHLL.sorted.4col.csv\n",
      "Loading 25 ... PLPro_6W9C_A_2_F.Orderable_zinc_db_enaHLL.sorted.4col.csv\n",
      "Loading 26 ... RDRP_6M71_A_2_F.Orderable_zinc_db_enaHLL.sorted.4col.csv\n",
      "Loading 27 ... RDRP_6M71_A_3_F.Orderable_zinc_db_enaHLL.sorted.4col.csv\n",
      "Loading 28 ... RDRP_6M71_A_4_F.Orderable_zinc_db_enaHLL.sorted.4col.csv\n",
      "Loading 29 ... RDRP_7BV1_A_1_F.Orderable_zinc_db_enaHLL.sorted.4col.csv\n",
      "Loading 30 ... RDRP_7BV1_A_2_F.Orderable_zinc_db_enaHLL.sorted.4col.csv\n",
      "Loading 31 ... RDRP_7BV1_A_3_F.Orderable_zinc_db_enaHLL.sorted.4col.csv\n",
      "Loading 32 ... RDRP_7BV1_A_4_F.Orderable_zinc_db_enaHLL.sorted.4col.csv\n",
      "Loading 33 ... RDRP_7BV2_A_1_F.Orderable_zinc_db_enaHLL.sorted.4col.csv\n",
      "Loading 34 ... RDRP_7BV2_A_2_F.Orderable_zinc_db_enaHLL.sorted.4col.csv\n",
      "Loading 35 ... RDRP_7BV2_A_3_F.Orderable_zinc_db_enaHLL.sorted.4col.csv\n",
      "\n",
      "Runtime: 11.19 mins\n"
     ]
    }
   ],
   "source": [
    "df = None\n",
    "t0 = time()\n",
    "\n",
    "for i, f in enumerate(files):\n",
    "    print(f'Loading {i+1} ... {f.name}')\n",
    "    df_in = pd.read_csv(f)\n",
    "    \n",
    "    cols = ['Inchi-key','SMILES','TITLE']\n",
    "    if all([True if c in df_in.columns else False for c in cols]):\n",
    "        df_in = df_in[cols]\n",
    "    else:\n",
    "        print(f'    skip {f}')\n",
    "        continue\n",
    "        \n",
    "    if df is None:\n",
    "        df = df_in.reset_index(drop=True)\n",
    "    else:\n",
    "        df = pd.concat([df, df_in], axis=0, ignore_index=True)\n",
    "        df = df.drop_duplicates(subset=['TITLE'])\n",
    "        df = df.reset_index(drop=True)\n",
    "\n",
    "runtime = time() - t0\n",
    "print('\\nRuntime: {:.2f} mins'.format( runtime/60 ))\n"
   ]
  },
  {
   "cell_type": "code",
   "execution_count": 16,
   "metadata": {},
   "outputs": [
    {
     "name": "stdout",
     "output_type": "stream",
     "text": [
      "(6678494, 3)\n"
     ]
    }
   ],
   "source": [
    "print(df.shape)\n",
    "df.to_csv(outdir/'OZD.May29.unique.csv', index=False)"
   ]
  },
  {
   "cell_type": "code",
   "execution_count": null,
   "metadata": {},
   "outputs": [],
   "source": []
  }
 ],
 "metadata": {
  "kernelspec": {
   "display_name": "Python 3",
   "language": "python",
   "name": "python3"
  },
  "language_info": {
   "codemirror_mode": {
    "name": "ipython",
    "version": 3
   },
   "file_extension": ".py",
   "mimetype": "text/x-python",
   "name": "python",
   "nbconvert_exporter": "python",
   "pygments_lexer": "ipython3",
   "version": "3.7.6"
  }
 },
 "nbformat": 4,
 "nbformat_minor": 4
}
