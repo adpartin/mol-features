{
 "cells": [
  {
   "cell_type": "markdown",
   "metadata": {},
   "source": [
    "# Aggregate feature subsets from HPC runs"
   ]
  },
  {
   "cell_type": "code",
   "execution_count": 1,
   "metadata": {},
   "outputs": [
    {
     "name": "stdout",
     "output_type": "stream",
     "text": [
      "/vol/ml/apartin/projects/covid-19/mol-features/nbs\n"
     ]
    }
   ],
   "source": [
    "%load_ext autoreload\n",
    "%autoreload 2\n",
    "%matplotlib inline\n",
    "\n",
    "import warnings\n",
    "warnings.filterwarnings('ignore')\n",
    "\n",
    "import os\n",
    "import sys\n",
    "from pathlib import Path\n",
    "from time import time\n",
    "import numpy as np\n",
    "import pandas as pd\n",
    "from glob import glob\n",
    "import matplotlib\n",
    "import matplotlib.pyplot as plt\n",
    "print(Path.cwd())"
   ]
  },
  {
   "cell_type": "code",
   "execution_count": 2,
   "metadata": {},
   "outputs": [],
   "source": [
    "def sizeof(data, verbose=True):\n",
    "    sz = sys.getsizeof(data)/1e9\n",
    "    if verbose: print(f'Size in GB: {sz}')\n",
    "    return sz"
   ]
  },
  {
   "cell_type": "code",
   "execution_count": 4,
   "metadata": {},
   "outputs": [
    {
     "name": "stdout",
     "output_type": "stream",
     "text": [
      "668\n"
     ]
    }
   ],
   "source": [
    "FEA_MAIN_DIR = Path('../data/raw/fea-subsets-hpc/')\n",
    "FEA_TYPE = 'descriptors'\n",
    "FEA_DIR = FEA_MAIN_DIR/FEA_TYPE\n",
    "fea_files = sorted( FEA_DIR.glob('OZD-*.csv') )\n",
    "print(len(fea_files))"
   ]
  },
  {
   "cell_type": "code",
   "execution_count": null,
   "metadata": {},
   "outputs": [],
   "source": []
  },
  {
   "cell_type": "markdown",
   "metadata": {},
   "source": [
    "# Load descriptors"
   ]
  },
  {
   "cell_type": "code",
   "execution_count": 4,
   "metadata": {},
   "outputs": [],
   "source": [
    "dd_prfx = 'dd'\n",
    "dd_sep = '_'"
   ]
  },
  {
   "cell_type": "code",
   "execution_count": 5,
   "metadata": {},
   "outputs": [
    {
     "name": "stdout",
     "output_type": "stream",
     "text": [
      "['ABC', 'ABCGG', 'nAcid']\n",
      "1826\n"
     ]
    }
   ],
   "source": [
    "dd_fea_names = pd.read_csv(FEA_MAIN_DIR/'dd_fea_names.csv').columns.tolist()\n",
    "dd_fea_names = [c.strip() for c in dd_fea_names] # clean col names\n",
    "print(dd_fea_names[:3])\n",
    "print(len(dd_fea_names))"
   ]
  },
  {
   "cell_type": "code",
   "execution_count": 6,
   "metadata": {},
   "outputs": [],
   "source": [
    "dd_fea_names = [dd_prfx+dd_sep+str(c) for c in dd_fea_names] # prefix fea cols\n",
    "cols = ['CAT', 'TITLE', 'SMILES'] + dd_fea_names"
   ]
  },
  {
   "cell_type": "code",
   "execution_count": null,
   "metadata": {},
   "outputs": [],
   "source": []
  },
  {
   "cell_type": "markdown",
   "metadata": {},
   "source": [
    "# Load single fea df"
   ]
  },
  {
   "cell_type": "code",
   "execution_count": 7,
   "metadata": {},
   "outputs": [
    {
     "name": "stdout",
     "output_type": "stream",
     "text": [
      "(10000, 1829)\n",
      "Expected size when including drugs 99.221657888\n"
     ]
    },
    {
     "data": {
      "text/html": [
       "<div>\n",
       "<style scoped>\n",
       "    .dataframe tbody tr th:only-of-type {\n",
       "        vertical-align: middle;\n",
       "    }\n",
       "\n",
       "    .dataframe tbody tr th {\n",
       "        vertical-align: top;\n",
       "    }\n",
       "\n",
       "    .dataframe thead th {\n",
       "        text-align: right;\n",
       "    }\n",
       "</style>\n",
       "<table border=\"1\" class=\"dataframe\">\n",
       "  <thead>\n",
       "    <tr style=\"text-align: right;\">\n",
       "      <th></th>\n",
       "      <th>CAT</th>\n",
       "      <th>TITLE</th>\n",
       "      <th>SMILES</th>\n",
       "      <th>dd_ABC</th>\n",
       "      <th>dd_ABCGG</th>\n",
       "      <th>dd_nAcid</th>\n",
       "      <th>dd_nBase</th>\n",
       "      <th>dd_SpAbs_A</th>\n",
       "      <th>dd_SpMax_A</th>\n",
       "      <th>dd_SpDiam_A</th>\n",
       "      <th>...</th>\n",
       "      <th>dd_SRW10</th>\n",
       "      <th>dd_TSRW10</th>\n",
       "      <th>dd_MW</th>\n",
       "      <th>dd_AMW</th>\n",
       "      <th>dd_WPath</th>\n",
       "      <th>dd_WPol</th>\n",
       "      <th>dd_Zagreb1</th>\n",
       "      <th>dd_Zagreb2</th>\n",
       "      <th>dd_mZagreb1</th>\n",
       "      <th>dd_mZagreb2</th>\n",
       "    </tr>\n",
       "  </thead>\n",
       "  <tbody>\n",
       "    <tr>\n",
       "      <th>0</th>\n",
       "      <td>OZD</td>\n",
       "      <td>ZINC000095370606</td>\n",
       "      <td>Cc1ccc(cc1)[C@@H]2C[N@@H+]([C@@H]3[C@H]2N4CCC3...</td>\n",
       "      <td>22.494165</td>\n",
       "      <td>16.342575</td>\n",
       "      <td>0.0</td>\n",
       "      <td>3.0</td>\n",
       "      <td>37.887760</td>\n",
       "      <td>2.578878</td>\n",
       "      <td>5.044375</td>\n",
       "      <td>...</td>\n",
       "      <td>10.458378</td>\n",
       "      <td>78.308840</td>\n",
       "      <td>377.28200</td>\n",
       "      <td>5.988603</td>\n",
       "      <td>2056.0</td>\n",
       "      <td>46.0</td>\n",
       "      <td>156.0</td>\n",
       "      <td>189.0</td>\n",
       "      <td>7.111111</td>\n",
       "      <td>6.083334</td>\n",
       "    </tr>\n",
       "    <tr>\n",
       "      <th>1</th>\n",
       "      <td>OZD</td>\n",
       "      <td>ZINC000040149497</td>\n",
       "      <td>c1ccc(cc1)N2CC[NH+](CC2)C/C(=[NH+]/OCC(=O)NCc3...</td>\n",
       "      <td>22.208040</td>\n",
       "      <td>15.742774</td>\n",
       "      <td>0.0</td>\n",
       "      <td>3.0</td>\n",
       "      <td>37.409843</td>\n",
       "      <td>2.317886</td>\n",
       "      <td>4.635773</td>\n",
       "      <td>...</td>\n",
       "      <td>9.928814</td>\n",
       "      <td>63.701084</td>\n",
       "      <td>417.19205</td>\n",
       "      <td>7.319159</td>\n",
       "      <td>3030.0</td>\n",
       "      <td>38.0</td>\n",
       "      <td>142.0</td>\n",
       "      <td>158.0</td>\n",
       "      <td>8.527778</td>\n",
       "      <td>6.527778</td>\n",
       "    </tr>\n",
       "  </tbody>\n",
       "</table>\n",
       "<p>2 rows × 1829 columns</p>\n",
       "</div>"
      ],
      "text/plain": [
       "   CAT             TITLE                                             SMILES  \\\n",
       "0  OZD  ZINC000095370606  Cc1ccc(cc1)[C@@H]2C[N@@H+]([C@@H]3[C@H]2N4CCC3...   \n",
       "1  OZD  ZINC000040149497  c1ccc(cc1)N2CC[NH+](CC2)C/C(=[NH+]/OCC(=O)NCc3...   \n",
       "\n",
       "      dd_ABC   dd_ABCGG  dd_nAcid  dd_nBase  dd_SpAbs_A  dd_SpMax_A  \\\n",
       "0  22.494165  16.342575       0.0       3.0   37.887760    2.578878   \n",
       "1  22.208040  15.742774       0.0       3.0   37.409843    2.317886   \n",
       "\n",
       "   dd_SpDiam_A  ...   dd_SRW10  dd_TSRW10      dd_MW    dd_AMW  dd_WPath  \\\n",
       "0     5.044375  ...  10.458378  78.308840  377.28200  5.988603    2056.0   \n",
       "1     4.635773  ...   9.928814  63.701084  417.19205  7.319159    3030.0   \n",
       "\n",
       "   dd_WPol  dd_Zagreb1  dd_Zagreb2  dd_mZagreb1  dd_mZagreb2  \n",
       "0     46.0       156.0       189.0     7.111111     6.083334  \n",
       "1     38.0       142.0       158.0     8.527778     6.527778  \n",
       "\n",
       "[2 rows x 1829 columns]"
      ]
     },
     "metadata": {},
     "output_type": "display_data"
    }
   ],
   "source": [
    "dd0 = pd.read_csv( Path(fea_files[0]), names=cols )\n",
    "print(dd0.shape)\n",
    "print('Expected size when including drugs', sizeof(dd0, verbose=False) * len(fea_files))\n",
    "display(dd0[:2])"
   ]
  },
  {
   "cell_type": "code",
   "execution_count": null,
   "metadata": {},
   "outputs": [],
   "source": []
  },
  {
   "cell_type": "markdown",
   "metadata": {},
   "source": [
    "# Agg all fea files to single file"
   ]
  },
  {
   "cell_type": "code",
   "execution_count": 8,
   "metadata": {},
   "outputs": [],
   "source": [
    "# dfs = []\n",
    "# dd0 = pd.read_csv( Path(fea_files[0]), names=cols )\n",
    "# dd1 = pd.read_csv( Path(fea_files[1]), names=cols )\n",
    "# dfs.append(dd0)\n",
    "# dfs.append(dd1)\n",
    "# df = pd.concat(dfs, axis=0).shape\n",
    "# sizeof(dfs[0])*600"
   ]
  },
  {
   "cell_type": "code",
   "execution_count": 9,
   "metadata": {},
   "outputs": [
    {
     "name": "stdout",
     "output_type": "stream",
     "text": [
      "Load 50 ... OZD-1420000-1430000.csv\n",
      "Load 100 ... OZD-1880000-1890000.csv\n",
      "Load 150 ... OZD-2320000-2330000.csv\n",
      "Load 200 ... OZD-2780000-2790000.csv\n",
      "Load 250 ... OZD-3220000-3230000.csv\n",
      "Load 300 ... OZD-3680000-3690000.csv\n",
      "Load 350 ... OZD-4120000-4130000.csv\n",
      "Load 400 ... OZD-4580000-4590000.csv\n",
      "Load 450 ... OZD-5020000-5030000.csv\n",
      "Load 500 ... OZD-5480000-5490000.csv\n",
      "Load 550 ... OZD-5930000-5940000.csv\n",
      "Load 600 ... OZD-6380000-6390000.csv\n",
      "Load 650 ... OZD-820000-830000.csv\n",
      "\n",
      "Runtime: 29.06 mins\n"
     ]
    }
   ],
   "source": [
    "df = None\n",
    "t0 = time()\n",
    "dfs = []\n",
    "lens = []\n",
    "\n",
    "for i, f in enumerate(fea_files):\n",
    "    if ( i+1 )%50==0:\n",
    "        print(f'Load {i+1} ... {f.name}')\n",
    "    dd = pd.read_csv( Path(fea_files[i]), names=cols )\n",
    "    lens.append(dd.shape[0])\n",
    "    # print(sizeof(dd));\n",
    "    dfs.append(dd)\n",
    "    \n",
    "runtime = time() - t0\n",
    "print('\\nRuntime: {:.2f} mins'.format( runtime/60 ))    "
   ]
  },
  {
   "cell_type": "code",
   "execution_count": 10,
   "metadata": {},
   "outputs": [
    {
     "name": "stdout",
     "output_type": "stream",
     "text": [
      "(6678493, 1829)\n",
      "Size in GB: 99.1504175\n",
      "99.1504175\n"
     ]
    }
   ],
   "source": [
    "fea_df = pd.concat(dfs, axis=0)\n",
    "fea_df = fea_df.reset_index(drop=True)\n",
    "print(fea_df.shape)\n",
    "print(sizeof(fea_df));"
   ]
  },
  {
   "cell_type": "code",
   "execution_count": 11,
   "metadata": {},
   "outputs": [
    {
     "data": {
      "text/html": [
       "<div>\n",
       "<style scoped>\n",
       "    .dataframe tbody tr th:only-of-type {\n",
       "        vertical-align: middle;\n",
       "    }\n",
       "\n",
       "    .dataframe tbody tr th {\n",
       "        vertical-align: top;\n",
       "    }\n",
       "\n",
       "    .dataframe thead th {\n",
       "        text-align: right;\n",
       "    }\n",
       "</style>\n",
       "<table border=\"1\" class=\"dataframe\">\n",
       "  <thead>\n",
       "    <tr style=\"text-align: right;\">\n",
       "      <th></th>\n",
       "      <th>CAT</th>\n",
       "      <th>TITLE</th>\n",
       "      <th>SMILES</th>\n",
       "      <th>dd_ABC</th>\n",
       "      <th>dd_ABCGG</th>\n",
       "      <th>dd_nAcid</th>\n",
       "      <th>dd_nBase</th>\n",
       "      <th>dd_SpAbs_A</th>\n",
       "      <th>dd_SpMax_A</th>\n",
       "      <th>dd_SpDiam_A</th>\n",
       "      <th>...</th>\n",
       "      <th>dd_SRW10</th>\n",
       "      <th>dd_TSRW10</th>\n",
       "      <th>dd_MW</th>\n",
       "      <th>dd_AMW</th>\n",
       "      <th>dd_WPath</th>\n",
       "      <th>dd_WPol</th>\n",
       "      <th>dd_Zagreb1</th>\n",
       "      <th>dd_Zagreb2</th>\n",
       "      <th>dd_mZagreb1</th>\n",
       "      <th>dd_mZagreb2</th>\n",
       "    </tr>\n",
       "  </thead>\n",
       "  <tbody>\n",
       "    <tr>\n",
       "      <th>0</th>\n",
       "      <td>OZD</td>\n",
       "      <td>ZINC000095370606</td>\n",
       "      <td>Cc1ccc(cc1)[C@@H]2C[N@@H+]([C@@H]3[C@H]2N4CCC3...</td>\n",
       "      <td>22.494165</td>\n",
       "      <td>16.342575</td>\n",
       "      <td>0.0</td>\n",
       "      <td>3.0</td>\n",
       "      <td>37.887760</td>\n",
       "      <td>2.578878</td>\n",
       "      <td>5.044375</td>\n",
       "      <td>...</td>\n",
       "      <td>10.458378</td>\n",
       "      <td>78.308840</td>\n",
       "      <td>377.28200</td>\n",
       "      <td>5.988603</td>\n",
       "      <td>2056.0</td>\n",
       "      <td>46.0</td>\n",
       "      <td>156.0</td>\n",
       "      <td>189.0</td>\n",
       "      <td>7.111111</td>\n",
       "      <td>6.083334</td>\n",
       "    </tr>\n",
       "    <tr>\n",
       "      <th>1</th>\n",
       "      <td>OZD</td>\n",
       "      <td>ZINC000040149497</td>\n",
       "      <td>c1ccc(cc1)N2CC[NH+](CC2)C/C(=[NH+]/OCC(=O)NCc3...</td>\n",
       "      <td>22.208040</td>\n",
       "      <td>15.742774</td>\n",
       "      <td>0.0</td>\n",
       "      <td>3.0</td>\n",
       "      <td>37.409843</td>\n",
       "      <td>2.317886</td>\n",
       "      <td>4.635773</td>\n",
       "      <td>...</td>\n",
       "      <td>9.928814</td>\n",
       "      <td>63.701084</td>\n",
       "      <td>417.19205</td>\n",
       "      <td>7.319159</td>\n",
       "      <td>3030.0</td>\n",
       "      <td>38.0</td>\n",
       "      <td>142.0</td>\n",
       "      <td>158.0</td>\n",
       "      <td>8.527778</td>\n",
       "      <td>6.527778</td>\n",
       "    </tr>\n",
       "  </tbody>\n",
       "</table>\n",
       "<p>2 rows × 1829 columns</p>\n",
       "</div>"
      ],
      "text/plain": [
       "   CAT             TITLE                                             SMILES  \\\n",
       "0  OZD  ZINC000095370606  Cc1ccc(cc1)[C@@H]2C[N@@H+]([C@@H]3[C@H]2N4CCC3...   \n",
       "1  OZD  ZINC000040149497  c1ccc(cc1)N2CC[NH+](CC2)C/C(=[NH+]/OCC(=O)NCc3...   \n",
       "\n",
       "      dd_ABC   dd_ABCGG  dd_nAcid  dd_nBase  dd_SpAbs_A  dd_SpMax_A  \\\n",
       "0  22.494165  16.342575       0.0       3.0   37.887760    2.578878   \n",
       "1  22.208040  15.742774       0.0       3.0   37.409843    2.317886   \n",
       "\n",
       "   dd_SpDiam_A  ...   dd_SRW10  dd_TSRW10      dd_MW    dd_AMW  dd_WPath  \\\n",
       "0     5.044375  ...  10.458378  78.308840  377.28200  5.988603    2056.0   \n",
       "1     4.635773  ...   9.928814  63.701084  417.19205  7.319159    3030.0   \n",
       "\n",
       "   dd_WPol  dd_Zagreb1  dd_Zagreb2  dd_mZagreb1  dd_mZagreb2  \n",
       "0     46.0       156.0       189.0     7.111111     6.083334  \n",
       "1     38.0       142.0       158.0     8.527778     6.527778  \n",
       "\n",
       "[2 rows x 1829 columns]"
      ]
     },
     "execution_count": 11,
     "metadata": {},
     "output_type": "execute_result"
    }
   ],
   "source": [
    "fea_df[:2]"
   ]
  },
  {
   "cell_type": "code",
   "execution_count": 12,
   "metadata": {},
   "outputs": [
    {
     "name": "stdout",
     "output_type": "stream",
     "text": [
      "(6678493, 1829)\n",
      "(6678493, 1829)\n"
     ]
    }
   ],
   "source": [
    "print(fea_df.shape)\n",
    "fea_df = fea_df.drop_duplicates(subset=['TITLE'])\n",
    "print(fea_df.shape)\n",
    "fea_df = fea_df.reset_index(drop=True)"
   ]
  },
  {
   "cell_type": "code",
   "execution_count": null,
   "metadata": {},
   "outputs": [],
   "source": []
  },
  {
   "cell_type": "markdown",
   "metadata": {},
   "source": [
    "# Load docking scores"
   ]
  },
  {
   "cell_type": "code",
   "execution_count": 13,
   "metadata": {},
   "outputs": [
    {
     "name": "stdout",
     "output_type": "stream",
     "text": [
      "(6109329, 4)\n"
     ]
    },
    {
     "data": {
      "text/html": [
       "<div>\n",
       "<style scoped>\n",
       "    .dataframe tbody tr th:only-of-type {\n",
       "        vertical-align: middle;\n",
       "    }\n",
       "\n",
       "    .dataframe tbody tr th {\n",
       "        vertical-align: top;\n",
       "    }\n",
       "\n",
       "    .dataframe thead th {\n",
       "        text-align: right;\n",
       "    }\n",
       "</style>\n",
       "<table border=\"1\" class=\"dataframe\">\n",
       "  <thead>\n",
       "    <tr style=\"text-align: right;\">\n",
       "      <th></th>\n",
       "      <th>Inchi-key</th>\n",
       "      <th>SMILES</th>\n",
       "      <th>TITLE</th>\n",
       "      <th>Chemgauss4</th>\n",
       "    </tr>\n",
       "  </thead>\n",
       "  <tbody>\n",
       "    <tr>\n",
       "      <th>0</th>\n",
       "      <td>MQQAVNHQRUNOBV-SDHOMARFSA-P</td>\n",
       "      <td>Cc1ccc(cc1)[C@@H]2C[N@@H+]([C@@H]3[C@H]2N4CCC3...</td>\n",
       "      <td>ZINC000095370606</td>\n",
       "      <td>-15.272850</td>\n",
       "    </tr>\n",
       "    <tr>\n",
       "      <th>1</th>\n",
       "      <td>DGLCKPUNCXSIDP-UHFFFAOYSA-P</td>\n",
       "      <td>c1ccc(cc1)N2CC[NH+](CC2)C/C(=[NH+]/OCC(=O)NCc3...</td>\n",
       "      <td>ZINC000040149497</td>\n",
       "      <td>-14.439569</td>\n",
       "    </tr>\n",
       "  </tbody>\n",
       "</table>\n",
       "</div>"
      ],
      "text/plain": [
       "                     Inchi-key  \\\n",
       "0  MQQAVNHQRUNOBV-SDHOMARFSA-P   \n",
       "1  DGLCKPUNCXSIDP-UHFFFAOYSA-P   \n",
       "\n",
       "                                              SMILES             TITLE  \\\n",
       "0  Cc1ccc(cc1)[C@@H]2C[N@@H+]([C@@H]3[C@H]2N4CCC3...  ZINC000095370606   \n",
       "1  c1ccc(cc1)N2CC[NH+](CC2)C/C(=[NH+]/OCC(=O)NCc3...  ZINC000040149497   \n",
       "\n",
       "   Chemgauss4  \n",
       "0  -15.272850  \n",
       "1  -14.439569  "
      ]
     },
     "metadata": {},
     "output_type": "display_data"
    }
   ],
   "source": [
    "# meta_path = Path('/vol/ml/apartin/projects/covid-19/mol-features/nbs/OZD.May29.all.csv')\n",
    "dock_main_dir = Path('/vol/ml/apartin/projects/covid-19/mol-features/data/raw/dock-2020-06-01/OZD')\n",
    "dock = pd.read_csv(dock_main_dir/'3CLPro_7BQY_A_1_F.Orderable_zinc_db_enaHLL.sorted.4col.csv')\n",
    "print(dock.shape)\n",
    "display(dock[:2])"
   ]
  },
  {
   "cell_type": "code",
   "execution_count": 14,
   "metadata": {},
   "outputs": [
    {
     "name": "stdout",
     "output_type": "stream",
     "text": [
      "(6109328, 1831)\n",
      "Size in GB: 91.308132886\n",
      "91.308132886\n"
     ]
    },
    {
     "data": {
      "text/html": [
       "<div>\n",
       "<style scoped>\n",
       "    .dataframe tbody tr th:only-of-type {\n",
       "        vertical-align: middle;\n",
       "    }\n",
       "\n",
       "    .dataframe tbody tr th {\n",
       "        vertical-align: top;\n",
       "    }\n",
       "\n",
       "    .dataframe thead th {\n",
       "        text-align: right;\n",
       "    }\n",
       "</style>\n",
       "<table border=\"1\" class=\"dataframe\">\n",
       "  <thead>\n",
       "    <tr style=\"text-align: right;\">\n",
       "      <th></th>\n",
       "      <th>Inchi-key</th>\n",
       "      <th>SMILES</th>\n",
       "      <th>TITLE</th>\n",
       "      <th>Chemgauss4</th>\n",
       "      <th>CAT</th>\n",
       "      <th>dd_ABC</th>\n",
       "      <th>dd_ABCGG</th>\n",
       "      <th>dd_nAcid</th>\n",
       "      <th>dd_nBase</th>\n",
       "      <th>dd_SpAbs_A</th>\n",
       "      <th>...</th>\n",
       "      <th>dd_SRW10</th>\n",
       "      <th>dd_TSRW10</th>\n",
       "      <th>dd_MW</th>\n",
       "      <th>dd_AMW</th>\n",
       "      <th>dd_WPath</th>\n",
       "      <th>dd_WPol</th>\n",
       "      <th>dd_Zagreb1</th>\n",
       "      <th>dd_Zagreb2</th>\n",
       "      <th>dd_mZagreb1</th>\n",
       "      <th>dd_mZagreb2</th>\n",
       "    </tr>\n",
       "  </thead>\n",
       "  <tbody>\n",
       "    <tr>\n",
       "      <th>0</th>\n",
       "      <td>MQQAVNHQRUNOBV-SDHOMARFSA-P</td>\n",
       "      <td>Cc1ccc(cc1)[C@@H]2C[N@@H+]([C@@H]3[C@H]2N4CCC3...</td>\n",
       "      <td>ZINC000095370606</td>\n",
       "      <td>-15.272850</td>\n",
       "      <td>OZD</td>\n",
       "      <td>22.494165</td>\n",
       "      <td>16.342575</td>\n",
       "      <td>0.0</td>\n",
       "      <td>3.0</td>\n",
       "      <td>37.887760</td>\n",
       "      <td>...</td>\n",
       "      <td>10.458378</td>\n",
       "      <td>78.308840</td>\n",
       "      <td>377.28200</td>\n",
       "      <td>5.988603</td>\n",
       "      <td>2056.0</td>\n",
       "      <td>46.0</td>\n",
       "      <td>156.0</td>\n",
       "      <td>189.0</td>\n",
       "      <td>7.111111</td>\n",
       "      <td>6.083334</td>\n",
       "    </tr>\n",
       "    <tr>\n",
       "      <th>1</th>\n",
       "      <td>DGLCKPUNCXSIDP-UHFFFAOYSA-P</td>\n",
       "      <td>c1ccc(cc1)N2CC[NH+](CC2)C/C(=[NH+]/OCC(=O)NCc3...</td>\n",
       "      <td>ZINC000040149497</td>\n",
       "      <td>-14.439569</td>\n",
       "      <td>OZD</td>\n",
       "      <td>22.208040</td>\n",
       "      <td>15.742774</td>\n",
       "      <td>0.0</td>\n",
       "      <td>3.0</td>\n",
       "      <td>37.409843</td>\n",
       "      <td>...</td>\n",
       "      <td>9.928814</td>\n",
       "      <td>63.701084</td>\n",
       "      <td>417.19205</td>\n",
       "      <td>7.319159</td>\n",
       "      <td>3030.0</td>\n",
       "      <td>38.0</td>\n",
       "      <td>142.0</td>\n",
       "      <td>158.0</td>\n",
       "      <td>8.527778</td>\n",
       "      <td>6.527778</td>\n",
       "    </tr>\n",
       "  </tbody>\n",
       "</table>\n",
       "<p>2 rows × 1831 columns</p>\n",
       "</div>"
      ],
      "text/plain": [
       "                     Inchi-key  \\\n",
       "0  MQQAVNHQRUNOBV-SDHOMARFSA-P   \n",
       "1  DGLCKPUNCXSIDP-UHFFFAOYSA-P   \n",
       "\n",
       "                                              SMILES             TITLE  \\\n",
       "0  Cc1ccc(cc1)[C@@H]2C[N@@H+]([C@@H]3[C@H]2N4CCC3...  ZINC000095370606   \n",
       "1  c1ccc(cc1)N2CC[NH+](CC2)C/C(=[NH+]/OCC(=O)NCc3...  ZINC000040149497   \n",
       "\n",
       "   Chemgauss4  CAT     dd_ABC   dd_ABCGG  dd_nAcid  dd_nBase  dd_SpAbs_A  ...  \\\n",
       "0  -15.272850  OZD  22.494165  16.342575       0.0       3.0   37.887760  ...   \n",
       "1  -14.439569  OZD  22.208040  15.742774       0.0       3.0   37.409843  ...   \n",
       "\n",
       "    dd_SRW10  dd_TSRW10      dd_MW    dd_AMW  dd_WPath  dd_WPol  dd_Zagreb1  \\\n",
       "0  10.458378  78.308840  377.28200  5.988603    2056.0     46.0       156.0   \n",
       "1   9.928814  63.701084  417.19205  7.319159    3030.0     38.0       142.0   \n",
       "\n",
       "   dd_Zagreb2  dd_mZagreb1  dd_mZagreb2  \n",
       "0       189.0     7.111111     6.083334  \n",
       "1       158.0     8.527778     6.527778  \n",
       "\n",
       "[2 rows x 1831 columns]"
      ]
     },
     "metadata": {},
     "output_type": "display_data"
    }
   ],
   "source": [
    "dd_trg = pd.merge(dock, fea_df, how='inner', on=['TITLE', 'SMILES'])\n",
    "print(dd_trg.shape)\n",
    "print(sizeof(dd_trg));\n",
    "display(dd_trg[:2])"
   ]
  },
  {
   "cell_type": "code",
   "execution_count": 16,
   "metadata": {},
   "outputs": [
    {
     "name": "stdout",
     "output_type": "stream",
     "text": [
      "(6109328, 1831)\n",
      "Size in GB: 91.308132886\n",
      "91.308132886\n"
     ]
    },
    {
     "data": {
      "text/html": [
       "<div>\n",
       "<style scoped>\n",
       "    .dataframe tbody tr th:only-of-type {\n",
       "        vertical-align: middle;\n",
       "    }\n",
       "\n",
       "    .dataframe tbody tr th {\n",
       "        vertical-align: top;\n",
       "    }\n",
       "\n",
       "    .dataframe thead th {\n",
       "        text-align: right;\n",
       "    }\n",
       "</style>\n",
       "<table border=\"1\" class=\"dataframe\">\n",
       "  <thead>\n",
       "    <tr style=\"text-align: right;\">\n",
       "      <th></th>\n",
       "      <th>CAT</th>\n",
       "      <th>Inchi-key</th>\n",
       "      <th>SMILES</th>\n",
       "      <th>TITLE</th>\n",
       "      <th>Chemgauss4</th>\n",
       "      <th>dd_ABC</th>\n",
       "      <th>dd_ABCGG</th>\n",
       "      <th>dd_nAcid</th>\n",
       "      <th>dd_nBase</th>\n",
       "      <th>dd_SpAbs_A</th>\n",
       "      <th>...</th>\n",
       "      <th>dd_SRW10</th>\n",
       "      <th>dd_TSRW10</th>\n",
       "      <th>dd_MW</th>\n",
       "      <th>dd_AMW</th>\n",
       "      <th>dd_WPath</th>\n",
       "      <th>dd_WPol</th>\n",
       "      <th>dd_Zagreb1</th>\n",
       "      <th>dd_Zagreb2</th>\n",
       "      <th>dd_mZagreb1</th>\n",
       "      <th>dd_mZagreb2</th>\n",
       "    </tr>\n",
       "  </thead>\n",
       "  <tbody>\n",
       "    <tr>\n",
       "      <th>0</th>\n",
       "      <td>OZD</td>\n",
       "      <td>MQQAVNHQRUNOBV-SDHOMARFSA-P</td>\n",
       "      <td>Cc1ccc(cc1)[C@@H]2C[N@@H+]([C@@H]3[C@H]2N4CCC3...</td>\n",
       "      <td>ZINC000095370606</td>\n",
       "      <td>-15.272850</td>\n",
       "      <td>22.494165</td>\n",
       "      <td>16.342575</td>\n",
       "      <td>0.0</td>\n",
       "      <td>3.0</td>\n",
       "      <td>37.887760</td>\n",
       "      <td>...</td>\n",
       "      <td>10.458378</td>\n",
       "      <td>78.308840</td>\n",
       "      <td>377.28200</td>\n",
       "      <td>5.988603</td>\n",
       "      <td>2056.0</td>\n",
       "      <td>46.0</td>\n",
       "      <td>156.0</td>\n",
       "      <td>189.0</td>\n",
       "      <td>7.111111</td>\n",
       "      <td>6.083334</td>\n",
       "    </tr>\n",
       "    <tr>\n",
       "      <th>1</th>\n",
       "      <td>OZD</td>\n",
       "      <td>DGLCKPUNCXSIDP-UHFFFAOYSA-P</td>\n",
       "      <td>c1ccc(cc1)N2CC[NH+](CC2)C/C(=[NH+]/OCC(=O)NCc3...</td>\n",
       "      <td>ZINC000040149497</td>\n",
       "      <td>-14.439569</td>\n",
       "      <td>22.208040</td>\n",
       "      <td>15.742774</td>\n",
       "      <td>0.0</td>\n",
       "      <td>3.0</td>\n",
       "      <td>37.409843</td>\n",
       "      <td>...</td>\n",
       "      <td>9.928814</td>\n",
       "      <td>63.701084</td>\n",
       "      <td>417.19205</td>\n",
       "      <td>7.319159</td>\n",
       "      <td>3030.0</td>\n",
       "      <td>38.0</td>\n",
       "      <td>142.0</td>\n",
       "      <td>158.0</td>\n",
       "      <td>8.527778</td>\n",
       "      <td>6.527778</td>\n",
       "    </tr>\n",
       "  </tbody>\n",
       "</table>\n",
       "<p>2 rows × 1831 columns</p>\n",
       "</div>"
      ],
      "text/plain": [
       "   CAT                    Inchi-key  \\\n",
       "0  OZD  MQQAVNHQRUNOBV-SDHOMARFSA-P   \n",
       "1  OZD  DGLCKPUNCXSIDP-UHFFFAOYSA-P   \n",
       "\n",
       "                                              SMILES             TITLE  \\\n",
       "0  Cc1ccc(cc1)[C@@H]2C[N@@H+]([C@@H]3[C@H]2N4CCC3...  ZINC000095370606   \n",
       "1  c1ccc(cc1)N2CC[NH+](CC2)C/C(=[NH+]/OCC(=O)NCc3...  ZINC000040149497   \n",
       "\n",
       "   Chemgauss4     dd_ABC   dd_ABCGG  dd_nAcid  dd_nBase  dd_SpAbs_A  ...  \\\n",
       "0  -15.272850  22.494165  16.342575       0.0       3.0   37.887760  ...   \n",
       "1  -14.439569  22.208040  15.742774       0.0       3.0   37.409843  ...   \n",
       "\n",
       "    dd_SRW10  dd_TSRW10      dd_MW    dd_AMW  dd_WPath  dd_WPol  dd_Zagreb1  \\\n",
       "0  10.458378  78.308840  377.28200  5.988603    2056.0     46.0       156.0   \n",
       "1   9.928814  63.701084  417.19205  7.319159    3030.0     38.0       142.0   \n",
       "\n",
       "   dd_Zagreb2  dd_mZagreb1  dd_mZagreb2  \n",
       "0       189.0     7.111111     6.083334  \n",
       "1       158.0     8.527778     6.527778  \n",
       "\n",
       "[2 rows x 1831 columns]"
      ]
     },
     "metadata": {},
     "output_type": "display_data"
    }
   ],
   "source": [
    "meta_cols = ['CAT', 'Inchi-key', 'SMILES', 'TITLE', 'Chemgauss4']\n",
    "dd_trg = dd_trg[ meta_cols + dd_fea_names ]\n",
    "print(dd_trg.shape)\n",
    "print(sizeof(dd_trg));\n",
    "display(dd_trg[:2])"
   ]
  },
  {
   "cell_type": "code",
   "execution_count": null,
   "metadata": {},
   "outputs": [],
   "source": []
  }
 ],
 "metadata": {
  "kernelspec": {
   "display_name": "Python 3",
   "language": "python",
   "name": "python3"
  },
  "language_info": {
   "codemirror_mode": {
    "name": "ipython",
    "version": 3
   },
   "file_extension": ".py",
   "mimetype": "text/x-python",
   "name": "python",
   "nbconvert_exporter": "python",
   "pygments_lexer": "ipython3",
   "version": "3.7.6"
  }
 },
 "nbformat": 4,
 "nbformat_minor": 4
}
