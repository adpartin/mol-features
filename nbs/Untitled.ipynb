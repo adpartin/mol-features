{
 "cells": [
  {
   "cell_type": "code",
   "execution_count": 1,
   "metadata": {},
   "outputs": [
    {
     "name": "stdout",
     "output_type": "stream",
     "text": [
      "/vol/ml/apartin/projects/covid-19/mol-features/nbs\n"
     ]
    }
   ],
   "source": [
    "%load_ext autoreload\n",
    "%autoreload 2\n",
    "%matplotlib inline\n",
    "\n",
    "import warnings\n",
    "warnings.filterwarnings('ignore')\n",
    "\n",
    "import os\n",
    "import sys\n",
    "from pathlib import Path\n",
    "import numpy as np\n",
    "import pandas as pd\n",
    "from glob import glob\n",
    "\n",
    "import matplotlib\n",
    "import matplotlib.pyplot as plt\n",
    "\n",
    "# from rdkit import Chem\n",
    "# from mordred import Calculator, descriptors\n",
    "\n",
    "# sys.path.append('../ML-docking-dataframe-generator/src/utils')\n",
    "# from smiles import canon_smiles, canon_df, canon_single_smile\n",
    "\n",
    "print( Path.cwd() )"
   ]
  },
  {
   "cell_type": "code",
   "execution_count": 38,
   "metadata": {},
   "outputs": [
    {
     "data": {
      "text/plain": [
       "31"
      ]
     },
     "execution_count": 38,
     "metadata": {},
     "output_type": "execute_result"
    }
   ],
   "source": [
    "len(glob('../data/raw/docking-2020-06-01/*sorted.top100.4col.csv'))\n",
    "files = glob('../data/raw/docking-2020-06-01/*sorted.top100.4col.csv')\n",
    "len(files)\n",
    "# df=pd.read_csv('../data/raw/docking-2020-06-01/3CLPro_7BQY_A_1_F.Orderable_zinc_db_enaHLL.sorted.top100.4col.csv')"
   ]
  },
  {
   "cell_type": "code",
   "execution_count": 15,
   "metadata": {},
   "outputs": [],
   "source": [
    "df1=pd.read_csv(files[0]).sort_values('TITLE')\n",
    "df2=pd.read_csv(files[1]).sort_values('TITLE')"
   ]
  },
  {
   "cell_type": "code",
   "execution_count": 16,
   "metadata": {},
   "outputs": [
    {
     "data": {
      "text/html": [
       "<div>\n",
       "<style scoped>\n",
       "    .dataframe tbody tr th:only-of-type {\n",
       "        vertical-align: middle;\n",
       "    }\n",
       "\n",
       "    .dataframe tbody tr th {\n",
       "        vertical-align: top;\n",
       "    }\n",
       "\n",
       "    .dataframe thead th {\n",
       "        text-align: right;\n",
       "    }\n",
       "</style>\n",
       "<table border=\"1\" class=\"dataframe\">\n",
       "  <thead>\n",
       "    <tr style=\"text-align: right;\">\n",
       "      <th></th>\n",
       "      <th>Inchi-key</th>\n",
       "      <th>SMILES</th>\n",
       "      <th>TITLE</th>\n",
       "      <th>Chemgauss4</th>\n",
       "    </tr>\n",
       "  </thead>\n",
       "  <tbody>\n",
       "    <tr>\n",
       "      <th>10</th>\n",
       "      <td>ACOPQWLURHLDRC-LLVKDONJSA-N</td>\n",
       "      <td>CC(C)[C@H](C(=O)NC(=O)N)Sc1nc([nH]n1)c2ccc(cc2)OC</td>\n",
       "      <td>Z104316204</td>\n",
       "      <td>-11.898806</td>\n",
       "    </tr>\n",
       "    <tr>\n",
       "      <th>70</th>\n",
       "      <td>QSMWORCDJXXAJA-SECBINFHSA-N</td>\n",
       "      <td>CC(C)c1c(scn1)C(=O)N2CCC[C@H](C2)c3[nH][nH]c(=...</td>\n",
       "      <td>Z2332191965</td>\n",
       "      <td>-11.209208</td>\n",
       "    </tr>\n",
       "    <tr>\n",
       "      <th>6</th>\n",
       "      <td>ODBPJJBALBMRCX-LLVKDONJSA-O</td>\n",
       "      <td>C[C@H](C(=O)N)[N@@H+]1CCC(=CC1)c2c[nH]c3c2cccc3</td>\n",
       "      <td>Z295860062</td>\n",
       "      <td>-12.038870</td>\n",
       "    </tr>\n",
       "    <tr>\n",
       "      <th>86</th>\n",
       "      <td>LBHAWPHRUYFKRZ-UHFFFAOYSA-N</td>\n",
       "      <td>CNC(=O)CNC(=O)c1ccc2c(c1)c3c([nH]2)CCCC3</td>\n",
       "      <td>Z52303220</td>\n",
       "      <td>-11.146911</td>\n",
       "    </tr>\n",
       "    <tr>\n",
       "      <th>56</th>\n",
       "      <td>AJCZIOFNLFKDRX-SNVBAGLBSA-N</td>\n",
       "      <td>C[C@@H]1CCc2c(c3cc(ccc3[nH]2)C(=O)NCC(=O)NC)C1</td>\n",
       "      <td>Z52303234</td>\n",
       "      <td>-11.288365</td>\n",
       "    </tr>\n",
       "  </tbody>\n",
       "</table>\n",
       "</div>"
      ],
      "text/plain": [
       "                      Inchi-key  \\\n",
       "10  ACOPQWLURHLDRC-LLVKDONJSA-N   \n",
       "70  QSMWORCDJXXAJA-SECBINFHSA-N   \n",
       "6   ODBPJJBALBMRCX-LLVKDONJSA-O   \n",
       "86  LBHAWPHRUYFKRZ-UHFFFAOYSA-N   \n",
       "56  AJCZIOFNLFKDRX-SNVBAGLBSA-N   \n",
       "\n",
       "                                               SMILES        TITLE  Chemgauss4  \n",
       "10  CC(C)[C@H](C(=O)NC(=O)N)Sc1nc([nH]n1)c2ccc(cc2)OC   Z104316204  -11.898806  \n",
       "70  CC(C)c1c(scn1)C(=O)N2CCC[C@H](C2)c3[nH][nH]c(=...  Z2332191965  -11.209208  \n",
       "6     C[C@H](C(=O)N)[N@@H+]1CCC(=CC1)c2c[nH]c3c2cccc3   Z295860062  -12.038870  \n",
       "86           CNC(=O)CNC(=O)c1ccc2c(c1)c3c([nH]2)CCCC3    Z52303220  -11.146911  \n",
       "56     C[C@@H]1CCc2c(c3cc(ccc3[nH]2)C(=O)NCC(=O)NC)C1    Z52303234  -11.288365  "
      ]
     },
     "execution_count": 16,
     "metadata": {},
     "output_type": "execute_result"
    }
   ],
   "source": [
    "df1.head()"
   ]
  },
  {
   "cell_type": "code",
   "execution_count": 17,
   "metadata": {},
   "outputs": [
    {
     "data": {
      "text/html": [
       "<div>\n",
       "<style scoped>\n",
       "    .dataframe tbody tr th:only-of-type {\n",
       "        vertical-align: middle;\n",
       "    }\n",
       "\n",
       "    .dataframe tbody tr th {\n",
       "        vertical-align: top;\n",
       "    }\n",
       "\n",
       "    .dataframe thead th {\n",
       "        text-align: right;\n",
       "    }\n",
       "</style>\n",
       "<table border=\"1\" class=\"dataframe\">\n",
       "  <thead>\n",
       "    <tr style=\"text-align: right;\">\n",
       "      <th></th>\n",
       "      <th>Inchi-key</th>\n",
       "      <th>SMILES</th>\n",
       "      <th>TITLE</th>\n",
       "      <th>Chemgauss4</th>\n",
       "    </tr>\n",
       "  </thead>\n",
       "  <tbody>\n",
       "    <tr>\n",
       "      <th>28</th>\n",
       "      <td>KBHMEHLJSZMEMI-QGBZTYBTSA-N</td>\n",
       "      <td>c1nc2c(c(n1)N)n[nH]c2[C@@H]3[C@H]([C@H]([C@H](...</td>\n",
       "      <td>DB02281</td>\n",
       "      <td>-12.088921</td>\n",
       "    </tr>\n",
       "    <tr>\n",
       "      <th>56</th>\n",
       "      <td>XQYFXZGKDDMSCJ-ZDUSSCGKSA-N</td>\n",
       "      <td>c1c([nH]cn1)C[C@@H](c2nc(c(n2CC(=O)[O-])O)C=C3...</td>\n",
       "      <td>DB04667</td>\n",
       "      <td>-11.847590</td>\n",
       "    </tr>\n",
       "    <tr>\n",
       "      <th>29</th>\n",
       "      <td>MQJDUTDIEKKGGV-UHFFFAOYSA-O</td>\n",
       "      <td>C[N@@H+](Cc1ccc(cc1)OCC=C)Cc2nc(nc(n2)N)N</td>\n",
       "      <td>Z103824832</td>\n",
       "      <td>-12.088501</td>\n",
       "    </tr>\n",
       "    <tr>\n",
       "      <th>95</th>\n",
       "      <td>HRHBODHGUVZCDF-UHFFFAOYSA-N</td>\n",
       "      <td>CCNC(=O)NCc1nc([nH]n1)c2ccc(cc2)OC</td>\n",
       "      <td>Z1180479436</td>\n",
       "      <td>-11.652998</td>\n",
       "    </tr>\n",
       "    <tr>\n",
       "      <th>41</th>\n",
       "      <td>MLXJOAWKCVLLKO-UYAOXDASSA-P</td>\n",
       "      <td>C[N@H+]1CC[C@@H]([C@H]1c2cccnc2)C[N@@H+](C)Cc3...</td>\n",
       "      <td>Z1757912311</td>\n",
       "      <td>-11.945366</td>\n",
       "    </tr>\n",
       "  </tbody>\n",
       "</table>\n",
       "</div>"
      ],
      "text/plain": [
       "                      Inchi-key  \\\n",
       "28  KBHMEHLJSZMEMI-QGBZTYBTSA-N   \n",
       "56  XQYFXZGKDDMSCJ-ZDUSSCGKSA-N   \n",
       "29  MQJDUTDIEKKGGV-UHFFFAOYSA-O   \n",
       "95  HRHBODHGUVZCDF-UHFFFAOYSA-N   \n",
       "41  MLXJOAWKCVLLKO-UYAOXDASSA-P   \n",
       "\n",
       "                                               SMILES        TITLE  Chemgauss4  \n",
       "28  c1nc2c(c(n1)N)n[nH]c2[C@@H]3[C@H]([C@H]([C@H](...      DB02281  -12.088921  \n",
       "56  c1c([nH]cn1)C[C@@H](c2nc(c(n2CC(=O)[O-])O)C=C3...      DB04667  -11.847590  \n",
       "29          C[N@@H+](Cc1ccc(cc1)OCC=C)Cc2nc(nc(n2)N)N   Z103824832  -12.088501  \n",
       "95                 CCNC(=O)NCc1nc([nH]n1)c2ccc(cc2)OC  Z1180479436  -11.652998  \n",
       "41  C[N@H+]1CC[C@@H]([C@H]1c2cccnc2)C[N@@H+](C)Cc3...  Z1757912311  -11.945366  "
      ]
     },
     "execution_count": 17,
     "metadata": {},
     "output_type": "execute_result"
    }
   ],
   "source": [
    "df2.head()"
   ]
  },
  {
   "cell_type": "code",
   "execution_count": 21,
   "metadata": {},
   "outputs": [],
   "source": [
    "l1=[1,2,3]\n",
    "l2=[3,6,7]\n",
    "l1.extend(l2)"
   ]
  },
  {
   "cell_type": "code",
   "execution_count": 22,
   "metadata": {},
   "outputs": [
    {
     "data": {
      "text/plain": [
       "[1, 2, 3, 3, 6, 7]"
      ]
     },
     "execution_count": 22,
     "metadata": {},
     "output_type": "execute_result"
    }
   ],
   "source": [
    "l1"
   ]
  },
  {
   "cell_type": "code",
   "execution_count": 25,
   "metadata": {},
   "outputs": [],
   "source": [
    "# df1['TITLE'].tolist()"
   ]
  },
  {
   "cell_type": "code",
   "execution_count": 34,
   "metadata": {},
   "outputs": [
    {
     "name": "stdout",
     "output_type": "stream",
     "text": [
      "[101]\n"
     ]
    }
   ],
   "source": [
    "ids = []\n",
    "lens = []\n",
    "for f in files:\n",
    "    df=pd.read_csv(f)\n",
    "    lens.append( len(df) )\n",
    "    ids.extend( df['TITLE'].tolist() )\n",
    "\n",
    "print(np.unique(lens))"
   ]
  },
  {
   "cell_type": "code",
   "execution_count": 37,
   "metadata": {},
   "outputs": [
    {
     "name": "stdout",
     "output_type": "stream",
     "text": [
      "3131\n",
      "2973\n"
     ]
    }
   ],
   "source": [
    "print( len(ids) )\n",
    "print( len(np.unique(ids)) )"
   ]
  },
  {
   "cell_type": "code",
   "execution_count": null,
   "metadata": {},
   "outputs": [],
   "source": []
  }
 ],
 "metadata": {
  "kernelspec": {
   "display_name": "Python 3",
   "language": "python",
   "name": "python3"
  },
  "language_info": {
   "codemirror_mode": {
    "name": "ipython",
    "version": 3
   },
   "file_extension": ".py",
   "mimetype": "text/x-python",
   "name": "python",
   "nbconvert_exporter": "python",
   "pygments_lexer": "ipython3",
   "version": "3.7.6"
  }
 },
 "nbformat": 4,
 "nbformat_minor": 4
}
