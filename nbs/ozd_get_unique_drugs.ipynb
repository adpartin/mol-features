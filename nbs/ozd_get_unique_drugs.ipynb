{
 "cells": [
  {
   "cell_type": "code",
   "execution_count": 1,
   "metadata": {},
   "outputs": [
    {
     "name": "stdout",
     "output_type": "stream",
     "text": [
      "/vol/ml/apartin/projects/covid-19/mol-features/nbs\n"
     ]
    }
   ],
   "source": [
    "%load_ext autoreload\n",
    "%autoreload 2\n",
    "%matplotlib inline\n",
    "\n",
    "import warnings\n",
    "warnings.filterwarnings('ignore')\n",
    "\n",
    "import os\n",
    "import sys\n",
    "from pathlib import Path\n",
    "from time import time\n",
    "import numpy as np\n",
    "import pandas as pd\n",
    "from glob import glob\n",
    "import matplotlib\n",
    "import matplotlib.pyplot as plt\n",
    "print( Path.cwd() )"
   ]
  },
  {
   "cell_type": "code",
   "execution_count": null,
   "metadata": {},
   "outputs": [],
   "source": [
    "datadir = Path('../data/raw/docking-2020-06-01/all/OZD')\n",
    "files = glob( str(datadir/'*4col.csv') )\n",
    "len(files)"
   ]
  },
  {
   "cell_type": "code",
   "execution_count": null,
   "metadata": {},
   "outputs": [],
   "source": [
    "# df1=pd.read_csv(files[0]) # .sort_values('TITLE')\n",
    "# df2=pd.read_csv(files[1]) # .sort_values('TITLE')\n",
    "# print(df1.shape)\n",
    "# print(df2.shape)\n",
    "\n",
    "# df = pd.concat([df1, df2], axis=0)\n",
    "# df = df.drop_duplicates(subset=['TITLE'])\n",
    "# print(df.shape)"
   ]
  },
  {
   "cell_type": "code",
   "execution_count": null,
   "metadata": {},
   "outputs": [],
   "source": []
  },
  {
   "cell_type": "code",
   "execution_count": null,
   "metadata": {},
   "outputs": [],
   "source": []
  },
  {
   "cell_type": "code",
   "execution_count": 4,
   "metadata": {},
   "outputs": [
    {
     "name": "stdout",
     "output_type": "stream",
     "text": [
      "Loading ... ../data/raw/docking-2020-06-01/all/OZD/3CLPro_7BQY_A_1_F.Orderable_zinc_db_enaHLL.sorted.4col.csv\n",
      "Loading ... ../data/raw/docking-2020-06-01/all/OZD/ADRP_6W02_A_1_H.Orderable_zinc_db_enaHLL.sorted.4col.csv\n",
      "Loading ... ../data/raw/docking-2020-06-01/all/OZD/NPRBD_6VYO_A_1_F.Orderable_zinc_db_enaHLL.sorted.4col.csv\n",
      "Loading ... ../data/raw/docking-2020-06-01/all/OZD/NPRBD_6VYO_AB_1_F.Orderable_zinc_db_enaHLL.sorted.4col.csv\n",
      "Loading ... ../data/raw/docking-2020-06-01/all/OZD/NPRBD_6VYO_BC_1_F.Orderable_zinc_db_enaHLL.sorted.4col.csv\n",
      "Loading ... ../data/raw/docking-2020-06-01/all/OZD/NPRBD_6VYO_CD_1_F.Orderable_zinc_db_enaHLL.sorted.4col.csv\n",
      "Loading ... ../data/raw/docking-2020-06-01/all/OZD/NPRBD_6VYO_DA_1_F.Orderable_zinc_db_enaHLL.sorted.4col.csv\n",
      "Loading ... ../data/raw/docking-2020-06-01/all/OZD/NSP10-16_6W61_AB_1_F.Orderable_zinc_db_enaHLL.sorted.4col.csv\n",
      "Loading ... ../data/raw/docking-2020-06-01/all/OZD/NSP10-16_6W61_AB_2_F.Orderable_zinc_db_enaHLL.sorted.4col.csv\n",
      "Loading ... ../data/raw/docking-2020-06-01/all/OZD/NSP10_6W61_B_1_F.Orderable_zinc_db_enaHLL.sorted.4col.csv\n",
      "Loading ... ../data/raw/docking-2020-06-01/all/OZD/NSP13_HELICASE_5WWP_0_A_A__DU__apo_PHE_A-145.Orderable_zinc_db_enaHLL.sorted.4col.csv\n",
      "    skip ../data/raw/docking-2020-06-01/all/OZD/NSP13_HELICASE_5WWP_0_A_A__DU__apo_PHE_A-145.Orderable_zinc_db_enaHLL.sorted.4col.csv\n",
      "Loading ... ../data/raw/docking-2020-06-01/all/OZD/NSP13_HELICASE_5WWP_1_A_A__DU__apo_PHE_A-145.Orderable_zinc_db_enaHLL.sorted.4col.csv\n",
      "    skip ../data/raw/docking-2020-06-01/all/OZD/NSP13_HELICASE_5WWP_1_A_A__DU__apo_PHE_A-145.Orderable_zinc_db_enaHLL.sorted.4col.csv\n",
      "Loading ... ../data/raw/docking-2020-06-01/all/OZD/NSP13_HELICASE_6JYT_1_A_A__DU__apo_PRO_A-408.Orderable_zinc_db_enaHLL.sorted.4col.csv\n",
      "    skip ../data/raw/docking-2020-06-01/all/OZD/NSP13_HELICASE_6JYT_1_A_A__DU__apo_PRO_A-408.Orderable_zinc_db_enaHLL.sorted.4col.csv\n",
      "Loading ... ../data/raw/docking-2020-06-01/all/OZD/RDRP_6M71_A_4_F.Orderable_zinc_db_enaHLL.sorted.4col.csv\n",
      "Loading ... ../data/raw/docking-2020-06-01/all/OZD/RDRP_7BV1_A_1_F.Orderable_zinc_db_enaHLL.sorted.4col.csv\n",
      "Loading ... ../data/raw/docking-2020-06-01/all/OZD/RDRP_7BV1_A_2_F.Orderable_zinc_db_enaHLL.sorted.4col.csv\n",
      "Loading ... ../data/raw/docking-2020-06-01/all/OZD/RDRP_7BV1_A_3_F.Orderable_zinc_db_enaHLL.sorted.4col.csv\n",
      "Loading ... ../data/raw/docking-2020-06-01/all/OZD/RDRP_7BV1_A_4_F.Orderable_zinc_db_enaHLL.sorted.4col.csv\n",
      "Loading ... ../data/raw/docking-2020-06-01/all/OZD/RDRP_7BV2_A_1_F.Orderable_zinc_db_enaHLL.sorted.4col.csv\n",
      "Loading ... ../data/raw/docking-2020-06-01/all/OZD/RDRP_7BV2_A_2_F.Orderable_zinc_db_enaHLL.sorted.4col.csv\n",
      "Loading ... ../data/raw/docking-2020-06-01/all/OZD/RDRP_7BV2_A_3_F.Orderable_zinc_db_enaHLL.sorted.4col.csv\n",
      "Loading ... ../data/raw/docking-2020-06-01/all/OZD/NSP13_HELICASE_6JYT_2_A_A__DU__apo_LEU_A-227.Orderable_zinc_db_enaHLL.sorted.4col.csv\n",
      "    skip ../data/raw/docking-2020-06-01/all/OZD/NSP13_HELICASE_6JYT_2_A_A__DU__apo_LEU_A-227.Orderable_zinc_db_enaHLL.sorted.4col.csv\n",
      "Loading ... ../data/raw/docking-2020-06-01/all/OZD/Nsp13.helicase_m1_pocket2.Orderable_zinc_db_enaHLL.sorted.4col.csv\n",
      "Loading ... ../data/raw/docking-2020-06-01/all/OZD/Nsp13.helicase_m3_pocket2.Orderable_zinc_db_enaHLL.sorted.4col.csv\n",
      "Loading ... ../data/raw/docking-2020-06-01/all/OZD/NSP15_6VWW_A_1_F.Orderable_zinc_db_enaHLL.sorted.4col.csv\n",
      "Loading ... ../data/raw/docking-2020-06-01/all/OZD/NSP15_6VWW_A_2_F.Orderable_zinc_db_enaHLL.sorted.4col.csv\n",
      "Loading ... ../data/raw/docking-2020-06-01/all/OZD/NSP15_6VWW_AB_1_F.Orderable_zinc_db_enaHLL.sorted.4col.csv\n",
      "Loading ... ../data/raw/docking-2020-06-01/all/OZD/NSP15_6W01_A_1_F.Orderable_zinc_db_enaHLL.sorted.4col.csv\n",
      "Loading ... ../data/raw/docking-2020-06-01/all/OZD/NSP15_6W01_A_2_F.Orderable_zinc_db_enaHLL.sorted.4col.csv\n",
      "Loading ... ../data/raw/docking-2020-06-01/all/OZD/NSP15_6W01_A_3_H.Orderable_zinc_db_enaHLL.sorted.4col.csv\n",
      "Loading ... ../data/raw/docking-2020-06-01/all/OZD/NSP15_6W01_AB_1_F.Orderable_zinc_db_enaHLL.sorted.4col.csv\n",
      "Loading ... ../data/raw/docking-2020-06-01/all/OZD/NSP16_6W61_A_1_H.Orderable_zinc_db_enaHLL.sorted.4col.csv\n",
      "Loading ... ../data/raw/docking-2020-06-01/all/OZD/PLPro_6W9C_A_2_F.Orderable_zinc_db_enaHLL.sorted.4col.csv\n",
      "Loading ... ../data/raw/docking-2020-06-01/all/OZD/RDRP_6M71_A_2_F.Orderable_zinc_db_enaHLL.sorted.4col.csv\n",
      "Loading ... ../data/raw/docking-2020-06-01/all/OZD/RDRP_6M71_A_3_F.Orderable_zinc_db_enaHLL.sorted.4col.csv\n",
      "Runtime: -11.09\n"
     ]
    }
   ],
   "source": [
    "df = None\n",
    "t0 = time()\n",
    "\n",
    "for i, f in enumerate(files):\n",
    "    print(f'Loading {i+1} ... {f}')\n",
    "    df_in = pd.read_csv(f)\n",
    "    \n",
    "    cols = ['Inchi-key','SMILES','TITLE']\n",
    "    if all([True if c in df_in.columns else False for c in cols]):\n",
    "        df_in = df_in[cols]\n",
    "    else:\n",
    "        print(f'    skip {f}')\n",
    "        continue\n",
    "        \n",
    "    if df is None:\n",
    "        df = df_in.reset_index(drop=True)\n",
    "    else:\n",
    "        df = pd.concat([df, df_in], axis=0, ignore_index=True)\n",
    "        df = df.drop_duplicates(subset=['TITLE'])\n",
    "        df = df.reset_index(drop=True)\n",
    "\n",
    "runtime = time() - t0\n",
    "print('\\nRuntime: {:.2f} mins'.format( runtime/60 ))\n"
   ]
  },
  {
   "cell_type": "code",
   "execution_count": 14,
   "metadata": {},
   "outputs": [
    {
     "name": "stdout",
     "output_type": "stream",
     "text": [
      "(6678494, 3)\n"
     ]
    }
   ],
   "source": [
    "print(df.shape)"
   ]
  },
  {
   "cell_type": "code",
   "execution_count": 15,
   "metadata": {},
   "outputs": [],
   "source": [
    "df.to_csv('OZD.May29.all.csv', index=False)"
   ]
  },
  {
   "cell_type": "code",
   "execution_count": 8,
   "metadata": {},
   "outputs": [
    {
     "data": {
      "text/html": [
       "<div>\n",
       "<style scoped>\n",
       "    .dataframe tbody tr th:only-of-type {\n",
       "        vertical-align: middle;\n",
       "    }\n",
       "\n",
       "    .dataframe tbody tr th {\n",
       "        vertical-align: top;\n",
       "    }\n",
       "\n",
       "    .dataframe thead th {\n",
       "        text-align: right;\n",
       "    }\n",
       "</style>\n",
       "<table border=\"1\" class=\"dataframe\">\n",
       "  <thead>\n",
       "    <tr style=\"text-align: right;\">\n",
       "      <th></th>\n",
       "      <th>Inchi-key</th>\n",
       "      <th>SMILES</th>\n",
       "      <th>TITLE</th>\n",
       "    </tr>\n",
       "  </thead>\n",
       "  <tbody>\n",
       "    <tr>\n",
       "      <th>1444889</th>\n",
       "      <td>AAAACIDXVXFWLZ-BJZZIADLSA-N</td>\n",
       "      <td>Cc1cc2c(c(c1)O[C@@H]3[C@@H]([C@H]([C@@H]([C@@H...</td>\n",
       "      <td>ZINC000004073402</td>\n",
       "    </tr>\n",
       "    <tr>\n",
       "      <th>1444891</th>\n",
       "      <td>AAAACIDXVXFWLZ-BJZZIADLSA-N</td>\n",
       "      <td>Cc1cc2c(c(c1)O[C@@H]3[C@@H]([C@H]([C@@H]([C@@H...</td>\n",
       "      <td>ZINC000004064305</td>\n",
       "    </tr>\n",
       "    <tr>\n",
       "      <th>1444892</th>\n",
       "      <td>AAAACIDXVXFWLZ-BJZZIADLSA-N</td>\n",
       "      <td>Cc1cc2c(c(c1)O[C@@H]3[C@@H]([C@H]([C@@H]([C@@H...</td>\n",
       "      <td>ZINC000254512570</td>\n",
       "    </tr>\n",
       "    <tr>\n",
       "      <th>1444893</th>\n",
       "      <td>AAAACIDXVXFWLZ-BJZZIADLSA-N</td>\n",
       "      <td>Cc1cc2c(c(c1)O[C@@H]3[C@@H]([C@H]([C@@H]([C@@H...</td>\n",
       "      <td>ZINC000002104436</td>\n",
       "    </tr>\n",
       "  </tbody>\n",
       "</table>\n",
       "</div>"
      ],
      "text/plain": [
       "                           Inchi-key  \\\n",
       "1444889  AAAACIDXVXFWLZ-BJZZIADLSA-N   \n",
       "1444891  AAAACIDXVXFWLZ-BJZZIADLSA-N   \n",
       "1444892  AAAACIDXVXFWLZ-BJZZIADLSA-N   \n",
       "1444893  AAAACIDXVXFWLZ-BJZZIADLSA-N   \n",
       "\n",
       "                                                    SMILES             TITLE  \n",
       "1444889  Cc1cc2c(c(c1)O[C@@H]3[C@@H]([C@H]([C@@H]([C@@H...  ZINC000004073402  \n",
       "1444891  Cc1cc2c(c(c1)O[C@@H]3[C@@H]([C@H]([C@@H]([C@@H...  ZINC000004064305  \n",
       "1444892  Cc1cc2c(c(c1)O[C@@H]3[C@@H]([C@H]([C@@H]([C@@H...  ZINC000254512570  \n",
       "1444893  Cc1cc2c(c(c1)O[C@@H]3[C@@H]([C@H]([C@@H]([C@@H...  ZINC000002104436  "
      ]
     },
     "execution_count": 8,
     "metadata": {},
     "output_type": "execute_result"
    }
   ],
   "source": [
    "df.sort_values('Inchi-key')[:4]"
   ]
  },
  {
   "cell_type": "code",
   "execution_count": 9,
   "metadata": {},
   "outputs": [],
   "source": [
    "df.sort_values('TITLE')[:4]"
   ]
  },
  {
   "cell_type": "code",
   "execution_count": null,
   "metadata": {},
   "outputs": [],
   "source": []
  }
 ],
 "metadata": {
  "kernelspec": {
   "display_name": "Python 3",
   "language": "python",
   "name": "python3"
  },
  "language_info": {
   "codemirror_mode": {
    "name": "ipython",
    "version": 3
   },
   "file_extension": ".py",
   "mimetype": "text/x-python",
   "name": "python",
   "nbconvert_exporter": "python",
   "pygments_lexer": "ipython3",
   "version": "3.7.6"
  }
 },
 "nbformat": 4,
 "nbformat_minor": 4
}
